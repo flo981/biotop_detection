{
 "cells": [
  {
   "cell_type": "code",
   "execution_count": null,
   "metadata": {},
   "outputs": [],
   "source": [
    "import geopandas as gpd\n",
    "import folium \n",
    "from folium.folium import Map\n",
    "from pyproj import Transformer\n",
    "from selenium import webdriver\n",
    "\n"
   ]
  },
  {
   "cell_type": "code",
   "execution_count": 12,
   "metadata": {},
   "outputs": [],
   "source": [
    "nReserve = gpd.read_file('../../Biotopkartierung/Biotopkartierung.shp')\n",
    "#nReserve = nReserve.query(\"gemnr=='50424'\")\n",
    "#nReserve = nReserve.query(\"bio_katgem=='55509.0'\")\n",
    "#nReserve_8 = nReserve.query(\"biotoptypg=='8'\")\n",
    "\n",
    "nReserve_8_gemnr = nReserve.query(\"biotoptyp=='8.1.1.2'\")\n",
    "\n",
    "\n",
    "\n",
    "\n",
    "wmts = \"http://maps.wien.gv.at/basemap/bmaporthofoto30cm/normal/google3857/{z}/{y}/{x}.jpeg\"\n",
    "\n",
    "transformer = Transformer.from_crs(31258, 4326, always_xy=True) #1frpm 2to\n",
    "\n",
    "#driver = webdriver.Firefox(executable_path = '/usr/local/bin/geckodriver')\n",
    "\n"
   ]
  },
  {
   "cell_type": "code",
   "execution_count": 105,
   "metadata": {},
   "outputs": [
    {
     "data": {
      "text/plain": [
       "276"
      ]
     },
     "execution_count": 105,
     "metadata": {},
     "output_type": "execute_result"
    }
   ],
   "source": [
    "nReserve_8_gemnr = nReserve.query(\"biotoptyp=='8.1.1.1'\")\n",
    "nReserve_8_gemnr.shape[0]\n"
   ]
  },
  {
   "cell_type": "code",
   "execution_count": 13,
   "metadata": {},
   "outputs": [
    {
     "name": "stdout",
     "output_type": "stream",
     "text": [
      "          Nummer  bio_katgem bio_subnr  bio_versio    schluessel  gemnr  \\\n",
      "76807  564050097     56405.0      0097           1  5.640501e+09  50313   \n",
      "\n",
      "                  bezeich rechtl_Sch biotoptypg biotoptyp    bezeichnun  \\\n",
      "76807  Hecke W Eberharten        §26          8   8.1.1.2  BT Baumhecke   \n",
      "\n",
      "                                                    Link  \\\n",
      "76807  http://anwendung/ins/biotop/display.do?id=1175585   \n",
      "\n",
      "                                                Link_ext ueberarbei  \\\n",
      "76807  https://service.salzburg.gv.at/ins/biotop/disp...       None   \n",
      "\n",
      "        SHAPE_STAr  SHAPE_STLe  \\\n",
      "76807  1289.921761  493.726606   \n",
      "\n",
      "                                                geometry  \n",
      "76807  POLYGON ((424205.448 312733.720, 424206.684 31...  \n",
      "------------\n",
      "          Nummer  bio_katgem bio_subnr  bio_versio    schluessel  gemnr  \\\n",
      "76890  565380028     56538.0      0028           1  5.653800e+09  50331   \n",
      "\n",
      "                      bezeich rechtl_Sch biotoptypg biotoptyp    bezeichnun  \\\n",
      "76890  Baumhecke SW Gehöft Ed        §26          8   8.1.1.2  BT Baumhecke   \n",
      "\n",
      "                                                    Link  \\\n",
      "76890  http://anwendung/ins/biotop/display.do?id=1172925   \n",
      "\n",
      "                                                Link_ext ueberarbei  \\\n",
      "76890  https://service.salzburg.gv.at/ins/biotop/disp...       None   \n",
      "\n",
      "        SHAPE_STAr  SHAPE_STLe  \\\n",
      "76890  1970.680267  353.887743   \n",
      "\n",
      "                                                geometry  \n",
      "76890  POLYGON ((435078.779 313112.307, 435083.876 31...  \n",
      "------------\n",
      "          Nummer  bio_katgem bio_subnr  bio_versio    schluessel  gemnr  \\\n",
      "76914  565450055     56545.0      0055           1  5.654501e+09  50331   \n",
      "\n",
      "                           bezeich rechtl_Sch biotoptypg biotoptyp  \\\n",
      "76914  Baumhecke SO Gehöft Reisach        §26          8   8.1.1.2   \n",
      "\n",
      "         bezeichnun                                               Link  \\\n",
      "76914  BT Baumhecke  http://anwendung/ins/biotop/display.do?id=1173135   \n",
      "\n",
      "                                                Link_ext ueberarbei  \\\n",
      "76914  https://service.salzburg.gv.at/ins/biotop/disp...       None   \n",
      "\n",
      "       SHAPE_STAr  SHAPE_STLe  \\\n",
      "76914  454.284729   97.425655   \n",
      "\n",
      "                                                geometry  \n",
      "76914  POLYGON ((437714.028 314155.848, 437712.257 31...  \n",
      "------------\n"
     ]
    }
   ],
   "source": [
    "biotop_key_nummer = nReserve_8_gemnr['Nummer']\n",
    "biotop_keys = biotop_key_nummer.keys()\n",
    "\n",
    "for i in range(0,3):\n",
    "    key_i = biotop_keys[i]\n",
    "    bio_i = nReserve_8_gemnr['Nummer'][key_i]\n",
    "    test_str_nummer = \"\\'\"+bio_i+\"\\'\"\n",
    "    test_str = \"Nummer==\"+str(test_str_nummer)\n",
    "    temp_biotop = nReserve_8_gemnr.query(test_str)\n",
    "    print(temp_biotop)\n",
    "    print(\"------------\")"
   ]
  },
  {
   "cell_type": "code",
   "execution_count": 14,
   "metadata": {},
   "outputs": [
    {
     "name": "stdout",
     "output_type": "stream",
     "text": [
      "76807\n",
      "564050097\n"
     ]
    },
    {
     "data": {
      "text/plain": [
       "'565450055'"
      ]
     },
     "execution_count": 14,
     "metadata": {},
     "output_type": "execute_result"
    }
   ],
   "source": [
    "# cut out biotope!\n",
    "\n",
    "biotop = nReserve_8_gemnr['Nummer']\n",
    "biotop_key = biotop.keys()\n",
    "i = 0\n",
    "key_i = biotop_key[i]\n",
    "bio_i = nReserve_8_gemnr['Nummer'][key_i]\n",
    "\n",
    "print(biotop_key[i])\n",
    "print(nReserve_8_gemnr['Nummer'][key_i])\n",
    "\n",
    "test_str = \"Nummer==\"\n",
    "\n",
    "#temp_biotop = nReserve_8_gemnr.query(\"Nummer=='565450055'\")\n",
    "#temp_biotop = nReserve_8_gemnr.query(\"Nummer==\"+str(bio_i))\n",
    "\n",
    "#biotop[biotop_key[0]]\n",
    "#temp_biotop['Nummer'][76914]\n",
    "\n",
    "\n",
    "temp_biotop['Nummer'][temp_biotop['Nummer'].keys()[0]]\n",
    "\n"
   ]
  },
  {
   "cell_type": "code",
   "execution_count": 15,
   "metadata": {},
   "outputs": [
    {
     "data": {
      "text/plain": [
       "'565450055'"
      ]
     },
     "execution_count": 15,
     "metadata": {},
     "output_type": "execute_result"
    }
   ],
   "source": [
    "biotop = nReserve_8_gemnr['Nummer']\n",
    "biotop_key = biotop.keys()\n",
    "\n",
    "temp_biotop = nReserve_8_gemnr.query(\"Nummer=='565450055'\")\n",
    "#biotop[biotop_key[0]]\n",
    "temp_biotop['Nummer'][76914]\n",
    "\n",
    "\n",
    "temp_biotop['Nummer'][temp_biotop['Nummer'].keys()[0]]\n",
    "\n"
   ]
  },
  {
   "cell_type": "code",
   "execution_count": 16,
   "metadata": {},
   "outputs": [
    {
     "data": {
      "text/plain": [
       "(13.16815080553439, 47.96570349383881)"
      ]
     },
     "execution_count": 16,
     "metadata": {},
     "output_type": "execute_result"
    }
   ],
   "source": [
    "#transformer = Transformer.from_crs(31258, 3857, always_xy=True) #1frpm 2to\n",
    "\n",
    "#test 3395, 4326\n",
    "\n",
    "\n",
    "\n",
    "\n",
    "#get biotop pos\n",
    "center_temp = temp_biotop.geometry.centroid\n",
    "#center_temp.x center_temp.y\n",
    "key = center_temp.keys()[0]\n",
    "#center_temp[key].x\n",
    "\n",
    "temp_location = transformer.transform(center_temp[key].x,center_temp[key].y)\n",
    "temp_location"
   ]
  },
  {
   "cell_type": "code",
   "execution_count": 103,
   "metadata": {},
   "outputs": [
    {
     "data": {
      "text/plain": [
       "'#%02x%02x%02x'"
      ]
     },
     "execution_count": 103,
     "metadata": {},
     "output_type": "execute_result"
    }
   ],
   "source": [
    "\n",
    "#AARRGGBB 3388ff FF0000\n",
    "def style_fcn(x):\n",
    "    return {'stroke':True,'color': 'FF0000', 'fillColor': '#AARRGGBB','opacity':1, 'weight':2, 'line_cap':'round', 'fill':False}\n",
    "\n",
    "random_html_color()"
   ]
  },
  {
   "cell_type": "code",
   "execution_count": 128,
   "metadata": {},
   "outputs": [
    {
     "name": "stdout",
     "output_type": "stream",
     "text": [
      "          Nummer  bio_katgem bio_subnr  bio_versio    schluessel  gemnr  \\\n",
      "76914  565450055     56545.0      0055           1  5.654501e+09  50331   \n",
      "\n",
      "                           bezeich rechtl_Sch biotoptypg biotoptyp  \\\n",
      "76914  Baumhecke SO Gehöft Reisach        §26          8   8.1.1.2   \n",
      "\n",
      "         bezeichnun                                               Link  \\\n",
      "76914  BT Baumhecke  http://anwendung/ins/biotop/display.do?id=1173135   \n",
      "\n",
      "                                                Link_ext ueberarbei  \\\n",
      "76914  https://service.salzburg.gv.at/ins/biotop/disp...       None   \n",
      "\n",
      "       SHAPE_STAr  SHAPE_STLe  \\\n",
      "76914  454.284729   97.425655   \n",
      "\n",
      "                                                geometry  \n",
      "76914  POLYGON ((437714.028 314155.848, 437712.257 31...  \n"
     ]
    }
   ],
   "source": [
    "print(temp_biotop)\n",
    "temp_nummer = temp_biotop['Nummer'][temp_biotop['Nummer'].keys()[0]]\n",
    "temp_gemnr = temp_biotop['gemnr'][temp_biotop['gemnr'].keys()[0]]\n",
    "temp_biotoptyp = temp_biotop['biotoptyp'][temp_biotop['biotoptyp'].keys()[0]]\n",
    "temp_bezeich = temp_biotop['bezeich'][temp_biotop['bezeich'].keys()[0]]\n",
    "\n",
    "\n",
    "\n"
   ]
  },
  {
   "cell_type": "code",
   "execution_count": 129,
   "metadata": {},
   "outputs": [
    {
     "name": "stdout",
     "output_type": "stream",
     "text": [
      "76914    POLYGON ((437714.028 314155.848, 437712.257 31...\n",
      "Name: geometry, dtype: geometry\n"
     ]
    },
    {
     "data": {
      "text/html": [
       "<div style=\"width:100%;\"><div style=\"position:relative;width:100%;height:0;padding-bottom:60%;\"><span style=\"color:#565656\">Make this Notebook Trusted to load map: File -> Trust Notebook</span><iframe src=\"about:blank\" style=\"position:absolute;width:100%;height:100%;left:0;top:0;border:none !important;\" data-html=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 onload=\"this.contentDocument.open();this.contentDocument.write(atob(this.getAttribute('data-html')));this.contentDocument.close();\" allowfullscreen webkitallowfullscreen mozallowfullscreen></iframe></div></div>"
      ],
      "text/plain": [
       "<folium.folium.Map at 0x7fd16906e640>"
      ]
     },
     "execution_count": 129,
     "metadata": {},
     "output_type": "execute_result"
    }
   ],
   "source": [
    "from folium.features import DivIcon\n",
    "\n",
    "\n",
    "\n",
    "text = \"Test222 \\n test 444 \"\n",
    "text = \"Nummer: \"+ str(temp_nummer) + \"\\n\" + \"GemNr: \" +str(temp_gemnr) + \"\\n\" + \"Biotoptyp: \" + str(temp_biotoptyp)+ \"\\n\" + \"Bezeichnung: \"+ str(temp_bezeich)\n",
    "\n",
    "m_temp = Map(tiles=None, location = [temp_location[1], temp_location[0]],\n",
    "                                    zoom_start=18,\n",
    "                                    prefer_canvas=True,\n",
    "                                    no_touch = True,\n",
    "                                    disable_3d = True,\n",
    "                                    attr = \"test\",\n",
    "                                    control_scale = True,\n",
    "                                    zoom_control = False)\n",
    "\n",
    "atlas = folium.raster_layers.WmsTileLayer(url = wmts, layers = \"bmaporthofoto30cm\", \n",
    "                                          fmt='image/png',\n",
    "                                         transparent=True,\n",
    "                                         overlay=True).add_to(m_temp)\n",
    "\n",
    "bio = folium.GeoJson(temp_biotop,style_function=style_fcn)\n",
    "bio.add_to(m_temp)\n",
    "\n",
    "folium.map.Marker(\n",
    "    [temp_location[1] + 0.001, temp_location[0] - 0.001],\n",
    "    icon=DivIcon(\n",
    "        icon_size=(150,36),\n",
    "        icon_anchor=(0,0),\n",
    "        html='<div style=\"font-size: 10pt;\"><span style=\"color: #ff0000;\">%s</span></div>' % text)\n",
    "    ).add_to(m_temp)\n",
    "#<p><span style=\"color: #ff0000;\">test</span></p>\n",
    "#        html='<div style=\"font-size: 25pt;\"><span style=\"color: #ff0000;\">text</span></div>' % text,\n",
    "#<div style=\"font-size: 25pt\">%s</div>\n",
    "\n",
    "\n",
    "#m_temp.fit_bounds([[temp_location[1], temp_location[0]], [temp_location[1]+5, temp_location[0]+5]])\n",
    "print(temp_biotop['geometry'])\n",
    "\n",
    "m_temp"
   ]
  },
  {
   "cell_type": "code",
   "execution_count": null,
   "metadata": {},
   "outputs": [],
   "source": []
  },
  {
   "cell_type": "code",
   "execution_count": null,
   "metadata": {},
   "outputs": [],
   "source": [
    "\n",
    "png = m_temp._to_png()\n",
    "\n",
    "out = open('m_temp_test2.png', 'wb')\n",
    "bytes_written = out.write(png)\n",
    "out.close()"
   ]
  },
  {
   "cell_type": "code",
   "execution_count": null,
   "metadata": {},
   "outputs": [],
   "source": [
    "import io\n",
    "from PIL import Image\n",
    "\n",
    "img_data = m_temp._to_png(5)\n",
    "img = Image.open(io.BytesIO(img_data))\n",
    "img.save('image.png')"
   ]
  },
  {
   "cell_type": "code",
   "execution_count": null,
   "metadata": {},
   "outputs": [],
   "source": [
    "driver = webdriver.Chrome(executable_path = '/usr/local/bin/chromedriver')\n",
    "\n"
   ]
  },
  {
   "cell_type": "code",
   "execution_count": null,
   "metadata": {},
   "outputs": [],
   "source": [
    "m_temp.save('map.html')\n",
    "\n",
    "driver = webdriver.Chrome(executable_path = '/usr/local/bin/chromedriver')\n",
    "\n",
    "driver.set_window_size(4000, 3000)  # choose a resolution\n",
    "driver.get('map.html')\n",
    "# You may need to add time.sleep(seconds) here\n",
    "driver.save_screenshot('screenshot.png')"
   ]
  },
  {
   "cell_type": "code",
   "execution_count": null,
   "metadata": {},
   "outputs": [],
   "source": []
  }
 ],
 "metadata": {
  "kernelspec": {
   "display_name": "Python 3",
   "language": "python",
   "name": "python3"
  },
  "language_info": {
   "codemirror_mode": {
    "name": "ipython",
    "version": 3
   },
   "file_extension": ".py",
   "mimetype": "text/x-python",
   "name": "python",
   "nbconvert_exporter": "python",
   "pygments_lexer": "ipython3",
   "version": "3.8.5"
  }
 },
 "nbformat": 4,
 "nbformat_minor": 4
}
